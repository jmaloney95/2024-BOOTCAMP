{
 "cells": [
  {
   "cell_type": "markdown",
   "metadata": {},
   "source": [
    "This exercise will require you to pull some data from https://data.nasdaq.com/ (formerly Quandl API)."
   ]
  },
  {
   "cell_type": "markdown",
   "metadata": {},
   "source": [
    "As a first step, you will need to register a free account on the https://data.nasdaq.com/ website."
   ]
  },
  {
   "cell_type": "markdown",
   "metadata": {},
   "source": [
    "After you register, you will be provided with a unique API key, that you should store:\r\n",
    "\r\n",
    "*Note*: Use a `.env` file and put your key in there and `python-dotenv` to access it in this notebook. \r\n",
    "\r\n",
    "The code below uses a key that was used when generating this project but has since been deleted. Never submit your keys to source control. There is a `.env-example` file in this repository to illusrtate what you need. Copy that to a file called `.env` and use your own api key in that `.env` file. Make sure you also have a `.gitignore` file with a line for `.env` added to it. \r\n",
    "\r\n",
    "The standard Python gitignore is [here](https://github.com/github/gitignore/blob/master/Python.gitignore) you can just copy that. "
   ]
  },
  {
   "cell_type": "code",
   "execution_count": 9,
   "metadata": {},
   "outputs": [
    {
     "name": "stdout",
     "output_type": "stream",
     "text": [
      "vKTNADnfZyEVhNeyoa-R\n"
     ]
    }
   ],
   "source": [
    "# get api key from your .env file\r\n",
    "import os\r\n",
    "from dotenv import load_dotenv\r\n",
    "\r\n",
    "load_dotenv()\r\n",
    "API_KEY = os.getenv('NASDAQ_API_KEY')\r\n",
    "\r\n",
    "print(API_KEY)"
   ]
  },
  {
   "cell_type": "markdown",
   "metadata": {},
   "source": [
    "Nasdaq Data has a large number of data sources, but, unfortunately, most of them require a Premium subscription. Still, there are also a good number of free datasets."
   ]
  },
  {
   "cell_type": "markdown",
   "metadata": {},
   "source": [
    "For this mini project, we will focus on equities data from the Frankfurt Stock Exhange (FSE), which is available for free. We'll try and analyze the stock prices of a company called Carl Zeiss Meditec, which manufactures tools for eye examinations, as well as medical lasers for laser eye surgery: https://www.zeiss.com/meditec/int/home.html. The company is listed under the stock ticker AFX_X."
   ]
  },
  {
   "cell_type": "markdown",
   "metadata": {},
   "source": [
    "You can find the detailed Nasdaq Data API instructions here: https://docs.data.nasdaq.com/docs/in-depth-usage"
   ]
  },
  {
   "cell_type": "markdown",
   "metadata": {},
   "source": [
    "While there is a dedicated Python package for connecting to the Nasdaq API, we would prefer that you use the *requests* package, which can be easily downloaded using *pip* or *conda*. You can find the documentation for the package here: http://docs.python-requests.org/en/master/ "
   ]
  },
  {
   "cell_type": "markdown",
   "metadata": {},
   "source": [
    "Finally, apart from the *requests* package, you are encouraged to not use any third party Python packages, such as *pandas*, and instead focus on what's available in the Python Standard Library (the *collections* module might come in handy: https://pymotw.com/3/collections/).\n",
    "Also, since you won't have access to DataFrames, you are encouraged to use Python's native data structures - preferably dictionaries, though some questions can also be answered using lists.\n",
    "You can read more on these data structures here: https://docs.python.org/3/tutorial/datastructures.html"
   ]
  },
  {
   "cell_type": "markdown",
   "metadata": {},
   "source": [
    "Keep in mind that the JSON responses you will be getting from the API map almost one-to-one to Python's dictionaries. Unfortunately, they can be very nested, so make sure you read up on indexing dictionaries in the documentation provided above."
   ]
  },
  {
   "cell_type": "code",
   "execution_count": 10,
   "metadata": {},
   "outputs": [],
   "source": [
    "# First, import the relevant modules"
   ]
  },
  {
   "cell_type": "code",
   "execution_count": 11,
   "metadata": {},
   "outputs": [],
   "source": [
    "import requests\n",
    "import json\n",
    "import os\n",
    "from datetime import datetime\n",
    "from dotenv import load_dotenv"
   ]
  },
  {
   "cell_type": "markdown",
   "metadata": {},
   "source": [
    "Note: API's can change a bit with each version, for this exercise it is recommended to use the nasdaq api at `https://data.nasdaq.com/api/v3/`. This is the same api as what used to be quandl so `https://www.quandl.com/api/v3/` should work too.\r\n",
    "\r\n",
    "Hint: We are looking for the `AFX_X` data on the `datasets/FSE/` dataset."
   ]
  },
  {
   "cell_type": "code",
   "execution_count": 12,
   "metadata": {},
   "outputs": [],
   "source": [
    "# Now, call the Nasdaq API and pull out a small sample of the data (only one day) to get a glimpse\r\n",
    "# into the JSON structure that will be returned"
   ]
  },
  {
   "cell_type": "code",
   "execution_count": 13,
   "metadata": {},
   "outputs": [],
   "source": [
    "url = \"https://data.nasdaq.com/api/v3/datasets/FSE/AFX_X.json\"\n",
    "params = {\n",
    "    'api_key': API_KEY\n",
    "}"
   ]
  },
  {
   "cell_type": "code",
   "execution_count": 14,
   "metadata": {},
   "outputs": [],
   "source": [
    "response = requests.get(url, params=params)"
   ]
  },
  {
   "cell_type": "code",
   "execution_count": 15,
   "metadata": {},
   "outputs": [],
   "source": [
    "if response.status_code == 200:\n",
    "    data = response.json()\n",
    "else:\n",
    "    print(\"Failed to retrieve data\", response.status_code)"
   ]
  },
  {
   "cell_type": "code",
   "execution_count": 16,
   "metadata": {},
   "outputs": [],
   "source": [
    "# Inspect the JSON structure of the object you created, and take note of how nested it is,\r\n",
    "# as well as the overall structure"
   ]
  },
  {
   "cell_type": "markdown",
   "metadata": {},
   "source": [
    "These are your tasks for this mini project:\n",
    "\n",
    "1. Collect data from the Franfurt Stock Exchange, for the ticker AFX_X, for the whole year 2017 (keep in mind that the date format is YYYY-MM-DD).\n",
    "2. Convert the returned JSON object into a Python dictionary.\n",
    "3. Calculate what the highest and lowest opening prices were for the stock in this period.\n",
    "4. What was the largest change in any one day (based on High and Low price)?\n",
    "5. What was the largest change between any two days (based on Closing Price)?\n",
    "6. What was the average daily trading volume during this year?\n",
    "7. (Optional) What was the median trading volume during this year. (Note: you may need to implement your own function for calculating the median.)"
   ]
  },
  {
   "cell_type": "code",
   "execution_count": 17,
   "metadata": {},
   "outputs": [],
   "source": [
    "columns = data['dataset']['column_names']\n",
    "dataset = data['dataset']['data']\n",
    "filtered_data = []"
   ]
  },
  {
   "cell_type": "code",
   "execution_count": 18,
   "metadata": {},
   "outputs": [],
   "source": [
    "start_date = datetime.strptime('2017-01-01', '%Y-%m-%d')\n",
    "end_date = datetime.strptime('2017-12-31', '%Y-%m-%d')"
   ]
  },
  {
   "cell_type": "code",
   "execution_count": 19,
   "metadata": {},
   "outputs": [],
   "source": [
    "# Collect 2017 data and save to dict"
   ]
  },
  {
   "cell_type": "code",
   "execution_count": 20,
   "metadata": {},
   "outputs": [],
   "source": [
    "json_list = []"
   ]
  },
  {
   "cell_type": "code",
   "execution_count": 21,
   "metadata": {},
   "outputs": [],
   "source": [
    "for record in dataset:\n",
    "    record_date = datetime.strptime(record[0], '%Y-%m-%d')\n",
    "    if start_date <= record_date <= end_date:\n",
    "        json_dict = dict(zip(columns, record))\n",
    "        json_list.append(json_dict)"
   ]
  },
  {
   "cell_type": "code",
   "execution_count": 22,
   "metadata": {},
   "outputs": [],
   "source": [
    "# Calculate highest/lowest opening prices"
   ]
  },
  {
   "cell_type": "code",
   "execution_count": 23,
   "metadata": {},
   "outputs": [],
   "source": [
    "lowest_open = float('inf')\n",
    "highest_open = float('-inf')"
   ]
  },
  {
   "cell_type": "code",
   "execution_count": 24,
   "metadata": {},
   "outputs": [],
   "source": [
    "for json_dict in json_list:\n",
    "    open_price = json_dict.get('Open')\n",
    "    if open_price is not None:\n",
    "        open_price = float(open_price)\n",
    "        if open_price < lowest_open:\n",
    "            lowest_open = open_price\n",
    "        if open_price > highest_open:\n",
    "            highest_open = open_price"
   ]
  },
  {
   "cell_type": "code",
   "execution_count": 25,
   "metadata": {},
   "outputs": [
    {
     "name": "stdout",
     "output_type": "stream",
     "text": [
      "Highest opening price in 2017: 53.11\n",
      "Lowest opening price in 2017: 34.00\n"
     ]
    }
   ],
   "source": [
    "print(\"Highest opening price in 2017: {:.2f}\".format(highest_open))\n",
    "print(\"Lowest opening price in 2017: {:.2f}\".format(lowest_open))"
   ]
  },
  {
   "cell_type": "code",
   "execution_count": 26,
   "metadata": {},
   "outputs": [],
   "source": [
    "# Largest change in any one day"
   ]
  },
  {
   "cell_type": "code",
   "execution_count": 27,
   "metadata": {},
   "outputs": [],
   "source": [
    "largest_change = float('-inf')"
   ]
  },
  {
   "cell_type": "code",
   "execution_count": 28,
   "metadata": {},
   "outputs": [
    {
     "name": "stdout",
     "output_type": "stream",
     "text": [
      "Largest change in any one day: 2.81\n"
     ]
    }
   ],
   "source": [
    "for json_dict in json_list:\n",
    "    high_price = float(json_dict.get(\"High\"))\n",
    "    low_price = float(json_dict.get(\"Low\"))\n",
    "    daily_change = abs(high_price - low_price)\n",
    "\n",
    "    if daily_change > largest_change:\n",
    "        largest_change = daily_change\n",
    "\n",
    "print(\"Largest change in any one day: {:.2f}\".format(largest_change))"
   ]
  },
  {
   "cell_type": "code",
   "execution_count": 29,
   "metadata": {},
   "outputs": [],
   "source": [
    "# Largest change between any two days"
   ]
  },
  {
   "cell_type": "code",
   "execution_count": 30,
   "metadata": {},
   "outputs": [],
   "source": [
    "for json_dict in json_list:\n",
    "    close_price = json_dict.get('Close')"
   ]
  },
  {
   "cell_type": "code",
   "execution_count": 31,
   "metadata": {},
   "outputs": [],
   "source": [
    "largest_closing_change = 0\n",
    "previous_closing_price = None"
   ]
  },
  {
   "cell_type": "code",
   "execution_count": 32,
   "metadata": {},
   "outputs": [],
   "source": [
    "for json_dict in json_list:\n",
    "    closing_price = json_dict.get(\"Close\")\n",
    "\n",
    "    if closing_price is not None:\n",
    "        closing_price = float(closing_price)\n",
    "        if previous_closing_price is not None:\n",
    "            daily_change = abs(closing_price - previous_closing_price) \n",
    "            if daily_change > largest_closing_change:\n",
    "                largest_closing_change = daily_change\n",
    "        \n",
    "        previous_closing_price = closing_price"
   ]
  },
  {
   "cell_type": "code",
   "execution_count": 33,
   "metadata": {},
   "outputs": [
    {
     "name": "stdout",
     "output_type": "stream",
     "text": [
      "Largest change between consecutive days: 2.56\n"
     ]
    }
   ],
   "source": [
    "print(\"Largest change between consecutive days: {:.2f}\".format(largest_closing_change))"
   ]
  },
  {
   "cell_type": "code",
   "execution_count": 34,
   "metadata": {},
   "outputs": [],
   "source": [
    "# Avg daily trading volume"
   ]
  },
  {
   "cell_type": "code",
   "execution_count": 35,
   "metadata": {},
   "outputs": [],
   "source": [
    "total_trading_volume = 0\n",
    "trading_days_count = 0"
   ]
  },
  {
   "cell_type": "code",
   "execution_count": 36,
   "metadata": {},
   "outputs": [],
   "source": [
    "trading_volumes = []"
   ]
  },
  {
   "cell_type": "code",
   "execution_count": 37,
   "metadata": {},
   "outputs": [],
   "source": [
    "for json_dict in json_list:\n",
    "    trading_volume = json_dict.get(\"Traded Volume\")\n",
    "\n",
    "    trading_volume = float(trading_volume)\n",
    "    trading_volumes.append(trading_volume) # save for next step\n",
    "    total_trading_volume += trading_volume\n",
    "    trading_days_count += 1"
   ]
  },
  {
   "cell_type": "code",
   "execution_count": 38,
   "metadata": {},
   "outputs": [
    {
     "name": "stdout",
     "output_type": "stream",
     "text": [
      "Average daily trading volume in 2017: 89124.34\n"
     ]
    }
   ],
   "source": [
    "average_trading_volume = total_trading_volume / trading_days_count\n",
    "print(\"Average daily trading volume in 2017: {:.2f}\".format(average_trading_volume))"
   ]
  },
  {
   "cell_type": "code",
   "execution_count": 39,
   "metadata": {},
   "outputs": [],
   "source": [
    "# Median trading volume this year"
   ]
  },
  {
   "cell_type": "code",
   "execution_count": 40,
   "metadata": {},
   "outputs": [],
   "source": [
    "trading_volumes.sort()"
   ]
  },
  {
   "cell_type": "code",
   "execution_count": 41,
   "metadata": {},
   "outputs": [
    {
     "name": "stdout",
     "output_type": "stream",
     "text": [
      "[45.0, 112.0, 290.0, 522.0, 587.0, 686.0, 1081.0, 1945.0, 27507.0, 34640.0, 37014.0, 37958.0, 38308.0, 38518.0, 38834.0, 39195.0, 39731.0, 40660.0, 40705.0, 40800.0, 41911.0, 42669.0, 43042.0, 43362.0, 43375.0, 43976.0, 43988.0, 44037.0, 44059.0, 44700.0, 44803.0, 45111.0, 45263.0, 46070.0, 46510.0, 47130.0, 47730.0, 47879.0, 47999.0, 48123.0, 48152.0, 48412.0, 48706.0, 48797.0, 49180.0, 49246.0, 49863.0, 49970.0, 50350.0, 50549.0, 50557.0, 50587.0, 51321.0, 52828.0, 54107.0, 54279.0, 54408.0, 55333.0, 55707.0, 55799.0, 56071.0, 56224.0, 56240.0, 56245.0, 56319.0, 56319.0, 56906.0, 56911.0, 57452.0, 57838.0, 59367.0, 59881.0, 59991.0, 60324.0, 60420.0, 60583.0, 60716.0, 61925.0, 62225.0, 62297.0, 62655.0, 62672.0, 63371.0, 64103.0, 64320.0, 64334.0, 65157.0, 65213.0, 65266.0, 65546.0, 65837.0, 65847.0, 65860.0, 65931.0, 66116.0, 66351.0, 66760.0, 67342.0, 67375.0, 67410.0, 67440.0, 67593.0, 67672.0, 67781.0, 68801.0, 68812.0, 69455.0, 69603.0, 69657.0, 69734.0, 70056.0, 70269.0, 70618.0, 70856.0, 71006.0, 71165.0, 71381.0, 71817.0, 71868.0, 71971.0, 72886.0, 73105.0, 73322.0, 73422.0, 74453.0, 74472.0, 74975.0, 76286.0, 76600.0, 77420.0, 77619.0, 77854.0, 78502.0, 78512.0, 79955.0, 80246.0, 80586.0, 81255.0, 81945.0, 81970.0, 82058.0, 82492.0, 82601.0, 82745.0, 83023.0, 83741.0, 84682.0, 85137.0, 85973.0, 86348.0, 86348.0, 86559.0, 86753.0, 87399.0, 87911.0, 88416.0, 88416.0, 88416.0, 88730.0, 89373.0, 89752.0, 90109.0, 90245.0, 90538.0, 91142.0, 91858.0, 92722.0, 94195.0, 94385.0, 94804.0, 95313.0, 95376.0, 95382.0, 96202.0, 96794.0, 97252.0, 97456.0, 97572.0, 97804.0, 98156.0, 99674.0, 99821.0, 101294.0, 101476.0, 101733.0, 101733.0, 102084.0, 102180.0, 103273.0, 104003.0, 104282.0, 104676.0, 104995.0, 105194.0, 105288.0, 106513.0, 107144.0, 107644.0, 107817.0, 108334.0, 109157.0, 111923.0, 112224.0, 112942.0, 114006.0, 115075.0, 115705.0, 115706.0, 115843.0, 117165.0, 120268.0, 120649.0, 123019.0, 123530.0, 127682.0, 127973.0, 128434.0, 129733.0, 131361.0, 132981.0, 133057.0, 134965.0, 136112.0, 137313.0, 149515.0, 151439.0, 151474.0, 151683.0, 156005.0, 156168.0, 157234.0, 157888.0, 158278.0, 159495.0, 163860.0, 164543.0, 166160.0, 169971.0, 175161.0, 177171.0, 183412.0, 186784.0, 187468.0, 189125.0, 189201.0, 191515.0, 193156.0, 193702.0, 202214.0, 204080.0, 210926.0, 223621.0, 335406.0, 355857.0, 670349.0]\n"
     ]
    }
   ],
   "source": [
    "print(trading_volumes)"
   ]
  },
  {
   "cell_type": "code",
   "execution_count": 42,
   "metadata": {},
   "outputs": [],
   "source": [
    "n = len(trading_volumes)"
   ]
  },
  {
   "cell_type": "code",
   "execution_count": 43,
   "metadata": {},
   "outputs": [],
   "source": [
    "if n % 2 == 1:\n",
    "    median_trading_volume = trading_volumes[n // 2]\n",
    "else:\n",
    "    median_trading_volume = (trading_volumes[n // 2 - 1] + trading_volumes[n // 2]) / 2"
   ]
  },
  {
   "cell_type": "code",
   "execution_count": 44,
   "metadata": {},
   "outputs": [
    {
     "name": "stdout",
     "output_type": "stream",
     "text": [
      "Median trading volume in 2017 76286.00\n"
     ]
    }
   ],
   "source": [
    "print(\"Median trading volume in 2017 {:.2f}\".format(median_trading_volume))"
   ]
  }
 ],
 "metadata": {
  "interpreter": {
   "hash": "7635eb1b9d0fe97add78a7368b6b431c09bb8ad5c42e437d64abdd99821c31ae"
  },
  "kernelspec": {
   "display_name": "Python 3 (ipykernel)",
   "language": "python",
   "name": "python3"
  },
  "language_info": {
   "codemirror_mode": {
    "name": "ipython",
    "version": 3
   },
   "file_extension": ".py",
   "mimetype": "text/x-python",
   "name": "python",
   "nbconvert_exporter": "python",
   "pygments_lexer": "ipython3",
   "version": "3.11.7"
  }
 },
 "nbformat": 4,
 "nbformat_minor": 4
}
