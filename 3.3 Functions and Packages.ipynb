{
 "cells": [
  {
   "cell_type": "code",
   "execution_count": 1,
   "id": "f1e1ddb4-b6c9-4670-a07f-1a9945114105",
   "metadata": {},
   "outputs": [],
   "source": [
    "def ping():\n",
    "    return \"Ping!\""
   ]
  },
  {
   "cell_type": "code",
   "execution_count": 2,
   "id": "dc2e77bd-5f62-4e35-8fe8-1c5f5cbb9586",
   "metadata": {},
   "outputs": [
    {
     "data": {
      "text/plain": [
       "'Ping!'"
      ]
     },
     "execution_count": 2,
     "metadata": {},
     "output_type": "execute_result"
    }
   ],
   "source": [
    "ping()"
   ]
  },
  {
   "cell_type": "code",
   "execution_count": 3,
   "id": "23268562-947d-416e-825c-fce01c6a5a32",
   "metadata": {},
   "outputs": [
    {
     "name": "stdout",
     "output_type": "stream",
     "text": [
      "Ping!\n"
     ]
    }
   ],
   "source": [
    "x = ping()\n",
    "print(x)"
   ]
  },
  {
   "cell_type": "code",
   "execution_count": 4,
   "id": "d23a0dab-734e-42b5-a6fa-487b710f5dc3",
   "metadata": {},
   "outputs": [],
   "source": [
    "# Math"
   ]
  },
  {
   "cell_type": "code",
   "execution_count": 5,
   "id": "1195d624-d360-4072-934e-120b8c5c3045",
   "metadata": {},
   "outputs": [],
   "source": [
    "import math"
   ]
  },
  {
   "cell_type": "code",
   "execution_count": 11,
   "id": "7630198d-7555-4f11-af98-0a358a924b02",
   "metadata": {},
   "outputs": [],
   "source": [
    "def volume(r):\n",
    "    \"\"\"Returns the volume of a sphere with radius r.\"\"\"\n",
    "    v = (4.0/3.0) * math.pi * r**3\n",
    "    return v"
   ]
  },
  {
   "cell_type": "code",
   "execution_count": 8,
   "id": "dd8e65ac-fea5-4a51-be28-45ff9231c69b",
   "metadata": {},
   "outputs": [
    {
     "data": {
      "text/plain": [
       "33.510321638291124"
      ]
     },
     "execution_count": 8,
     "metadata": {},
     "output_type": "execute_result"
    }
   ],
   "source": [
    "volume(2)"
   ]
  },
  {
   "cell_type": "code",
   "execution_count": 12,
   "id": "82b41deb-9b4d-4442-bd71-9edbf77d12b8",
   "metadata": {},
   "outputs": [
    {
     "name": "stdout",
     "output_type": "stream",
     "text": [
      "Help on function volume in module __main__:\n",
      "\n",
      "volume(r)\n",
      "    Returns the volume of a sphere with radius r.\n",
      "\n"
     ]
    }
   ],
   "source": [
    "help(volume)"
   ]
  },
  {
   "cell_type": "code",
   "execution_count": 17,
   "id": "d74a7dd1-89d3-4995-8567-fbd87b9d7bc7",
   "metadata": {},
   "outputs": [],
   "source": [
    "def triangle_area(b, h):\n",
    "    \"\"\"Returns the area of a triangle with base b and height h.\"\"\"\n",
    "    return 0.5 * b * h"
   ]
  },
  {
   "cell_type": "code",
   "execution_count": 18,
   "id": "950fc8a6-9847-4b9b-8da6-eb025db6c038",
   "metadata": {},
   "outputs": [
    {
     "data": {
      "text/plain": [
       "6.0"
      ]
     },
     "execution_count": 18,
     "metadata": {},
     "output_type": "execute_result"
    }
   ],
   "source": [
    "triangle_area(3, 4)"
   ]
  },
  {
   "cell_type": "code",
   "execution_count": 19,
   "id": "86e74cfa-c4e9-4be3-8d2d-b0cb8cc7b083",
   "metadata": {},
   "outputs": [],
   "source": [
    "def cm(feet = 0, inches = 0):\n",
    "    \"\"\"Converts a length from feet and inches to centimeters.\"\"\"\n",
    "    inches_to_cm = inches * 2.54\n",
    "    feet_to_cm = feet * 12 * 2.54\n",
    "    return inches_to_cm + feet_to_cm"
   ]
  },
  {
   "cell_type": "code",
   "execution_count": 20,
   "id": "13385a14-0cdd-4720-8169-57a5d04198ad",
   "metadata": {},
   "outputs": [
    {
     "data": {
      "text/plain": [
       "152.4"
      ]
     },
     "execution_count": 20,
     "metadata": {},
     "output_type": "execute_result"
    }
   ],
   "source": [
    "cm(feet = 5)"
   ]
  },
  {
   "cell_type": "code",
   "execution_count": 21,
   "id": "f18a3533-be92-4657-880d-3029bd9db5a5",
   "metadata": {},
   "outputs": [
    {
     "data": {
      "text/plain": [
       "177.8"
      ]
     },
     "execution_count": 21,
     "metadata": {},
     "output_type": "execute_result"
    }
   ],
   "source": [
    "cm(inches = 70)"
   ]
  },
  {
   "cell_type": "code",
   "execution_count": 23,
   "id": "bb358c63-f4bc-4ae4-9fc0-bc8b07e56cdb",
   "metadata": {},
   "outputs": [
    {
     "data": {
      "text/plain": [
       "172.72"
      ]
     },
     "execution_count": 23,
     "metadata": {},
     "output_type": "execute_result"
    }
   ],
   "source": [
    "cm(feet = 5, inches = 8)"
   ]
  },
  {
   "cell_type": "code",
   "execution_count": 27,
   "id": "60b69c20-f94f-4c0a-856a-70959f77bdd2",
   "metadata": {},
   "outputs": [],
   "source": [
    "def g(y, x = 0):\n",
    "    return x + y"
   ]
  },
  {
   "cell_type": "code",
   "execution_count": 28,
   "id": "aacf2eba-7370-40d6-97ec-81cc29a0f734",
   "metadata": {},
   "outputs": [
    {
     "data": {
      "text/plain": [
       "5"
      ]
     },
     "execution_count": 28,
     "metadata": {},
     "output_type": "execute_result"
    }
   ],
   "source": [
    "g(5)"
   ]
  },
  {
   "cell_type": "code",
   "execution_count": 29,
   "id": "14f175b0-28aa-4059-9941-d47e915e8dee",
   "metadata": {},
   "outputs": [
    {
     "data": {
      "text/plain": [
       "10"
      ]
     },
     "execution_count": 29,
     "metadata": {},
     "output_type": "execute_result"
    }
   ],
   "source": [
    "g(7, x = 3)"
   ]
  },
  {
   "cell_type": "code",
   "execution_count": 30,
   "id": "494fc996-8ce4-49ee-8e69-0cfd41489197",
   "metadata": {},
   "outputs": [],
   "source": [
    "# Functions"
   ]
  },
  {
   "cell_type": "code",
   "execution_count": 31,
   "id": "ef24cfe8-6117-4065-ad29-d0b3a9f45f48",
   "metadata": {},
   "outputs": [
    {
     "name": "stdout",
     "output_type": "stream",
     "text": [
      "this is outside the function\n"
     ]
    }
   ],
   "source": [
    "def function1():\n",
    "    print(\"ahhh\")\n",
    "    print(\"ahhh 2\")\n",
    "print(\"this is outside the function\")"
   ]
  },
  {
   "cell_type": "code",
   "execution_count": 32,
   "id": "3a9a908e-6322-429c-a77b-062146319e47",
   "metadata": {},
   "outputs": [
    {
     "name": "stdout",
     "output_type": "stream",
     "text": [
      "ahhh\n",
      "ahhh 2\n"
     ]
    }
   ],
   "source": [
    "function1()"
   ]
  },
  {
   "cell_type": "code",
   "execution_count": 33,
   "id": "d47e8e85-8fa1-47a9-a01a-005e3ea9d786",
   "metadata": {},
   "outputs": [],
   "source": [
    "# a mapping\n",
    "def function2(x):\n",
    "    return 2*x"
   ]
  },
  {
   "cell_type": "code",
   "execution_count": 34,
   "id": "8e8b61ee-6290-4941-a853-de4c635f2c95",
   "metadata": {},
   "outputs": [
    {
     "name": "stdout",
     "output_type": "stream",
     "text": [
      "6\n"
     ]
    }
   ],
   "source": [
    "a = function2(3)\n",
    "# return value or output\n",
    "print(a)"
   ]
  },
  {
   "cell_type": "code",
   "execution_count": 37,
   "id": "f2d5204e-7342-4bc8-84e8-e0b6ae34f814",
   "metadata": {},
   "outputs": [
    {
     "name": "stdout",
     "output_type": "stream",
     "text": [
      "8\n"
     ]
    }
   ],
   "source": [
    "b = function2(4)\n",
    "print(b)"
   ]
  },
  {
   "cell_type": "code",
   "execution_count": 40,
   "id": "2f73b604-5ca1-4d53-84ba-8a1fdde33b1c",
   "metadata": {},
   "outputs": [],
   "source": [
    "def function3(x, y):\n",
    "    return x + y"
   ]
  },
  {
   "cell_type": "code",
   "execution_count": 41,
   "id": "46b745a6-cb13-46d2-a9d2-c166c9200e53",
   "metadata": {},
   "outputs": [
    {
     "name": "stdout",
     "output_type": "stream",
     "text": [
      "3\n"
     ]
    }
   ],
   "source": [
    "e = function3(1, 2)\n",
    "print(e)"
   ]
  },
  {
   "cell_type": "code",
   "execution_count": 42,
   "id": "e73fd28b-1092-40ef-afba-8ceea3dc2122",
   "metadata": {},
   "outputs": [],
   "source": [
    "def function4(x):\n",
    "    print(x)\n",
    "    print(\"still in this function\")\n",
    "    return 3*x"
   ]
  },
  {
   "cell_type": "code",
   "execution_count": 43,
   "id": "9eda3292-8463-412e-aaf6-101129dea2a6",
   "metadata": {},
   "outputs": [
    {
     "name": "stdout",
     "output_type": "stream",
     "text": [
      "4\n",
      "still in this function\n"
     ]
    }
   ],
   "source": [
    "f = function4(4)"
   ]
  },
  {
   "cell_type": "code",
   "execution_count": 44,
   "id": "88d75aec-b2f7-4fde-b59c-30ae2fe8f8c0",
   "metadata": {},
   "outputs": [],
   "source": [
    "def function5(some_argument):\n",
    "    print(some_argument)\n",
    "    print(\"weee\")"
   ]
  },
  {
   "cell_type": "code",
   "execution_count": 45,
   "id": "fa3e80c6-3adc-49ff-8f3b-8a6999a29c27",
   "metadata": {},
   "outputs": [
    {
     "name": "stdout",
     "output_type": "stream",
     "text": [
      "4\n",
      "weee\n"
     ]
    }
   ],
   "source": [
    "function5(4)"
   ]
  },
  {
   "cell_type": "code",
   "execution_count": 46,
   "id": "b2dee29d-f13e-44d9-91bf-4941f5ffc23b",
   "metadata": {},
   "outputs": [],
   "source": [
    "# BMI Calculator\n",
    "name1 = \"YK\"\n",
    "height_m1 = 2\n",
    "weight_kg1 = 90\n",
    "\n",
    "name2 = \"YK's sister\"\n",
    "height_m2 = 1.8\n",
    "weight_kg2 = 70\n",
    "\n",
    "name3 = \"YK's brother\"\n",
    "height_m3 = 2.5\n",
    "weight_kg3 = 160"
   ]
  },
  {
   "cell_type": "code",
   "execution_count": 51,
   "id": "7f315682-2a62-4537-accb-6835866ef34e",
   "metadata": {},
   "outputs": [],
   "source": [
    "def bmi_calculator(name, height_m, weight_kg):\n",
    "    bmi = weight_kg / (height_m ** 2)\n",
    "    print(\"bmi: \")\n",
    "    print(bmi)\n",
    "    if bmi < 25:\n",
    "        return name + \" is not overweight\"\n",
    "    else:\n",
    "        return name + \" is overweight\""
   ]
  },
  {
   "cell_type": "code",
   "execution_count": 52,
   "id": "ac8be6f5-7042-4ffe-a548-1b41cb137271",
   "metadata": {},
   "outputs": [
    {
     "name": "stdout",
     "output_type": "stream",
     "text": [
      "bmi: \n",
      "22.5\n",
      "bmi: \n",
      "21.604938271604937\n",
      "bmi: \n",
      "25.6\n"
     ]
    }
   ],
   "source": [
    "result1 = bmi_calculator(name1, height_m1, weight_kg1)\n",
    "result2 = bmi_calculator(name2, height_m2, weight_kg2)\n",
    "result3 = bmi_calculator(name3, height_m3, weight_kg3)"
   ]
  },
  {
   "cell_type": "code",
   "execution_count": 53,
   "id": "4a75e64b-5e01-482c-a127-3df417b72cd1",
   "metadata": {},
   "outputs": [
    {
     "name": "stdout",
     "output_type": "stream",
     "text": [
      "YK is not overweight\n",
      "YK's sister is not overweight\n",
      "YK's brother is overweight\n"
     ]
    }
   ],
   "source": [
    "print(result1)\n",
    "print(result2)\n",
    "print(result3)"
   ]
  },
  {
   "cell_type": "code",
   "execution_count": 63,
   "id": "413cfca4-639d-4269-b43d-ebc1528fbca8",
   "metadata": {},
   "outputs": [],
   "source": [
    "# Conversion problem\n",
    "# km = 1.6 * miles"
   ]
  },
  {
   "cell_type": "code",
   "execution_count": 64,
   "id": "c767e158-249d-4eef-ab59-2dc17e0105b7",
   "metadata": {},
   "outputs": [],
   "source": [
    "def convert(miles):\n",
    "    return 1.6 * miles"
   ]
  },
  {
   "cell_type": "code",
   "execution_count": 65,
   "id": "5b08f2b7-1984-4692-905f-47eb79be57d1",
   "metadata": {},
   "outputs": [
    {
     "name": "stdout",
     "output_type": "stream",
     "text": [
      "41.92\n"
     ]
    }
   ],
   "source": [
    "km = convert(miles)\n",
    "print(km)"
   ]
  },
  {
   "cell_type": "code",
   "execution_count": 66,
   "id": "a343099c-22c0-4324-bae1-b7d86e81d040",
   "metadata": {},
   "outputs": [
    {
     "name": "stdout",
     "output_type": "stream",
     "text": [
      "1.6\n"
     ]
    }
   ],
   "source": [
    "print(convert(1))"
   ]
  },
  {
   "cell_type": "code",
   "execution_count": 68,
   "id": "878b8a0d-d978-4e83-a45d-163617057309",
   "metadata": {},
   "outputs": [
    {
     "name": "stdout",
     "output_type": "stream",
     "text": [
      "1.99\n"
     ]
    }
   ],
   "source": [
    "fam = [1.73, 1.69, 1.72, 1.99]\n",
    "tallest = max(fam)\n",
    "print(tallest)"
   ]
  },
  {
   "cell_type": "code",
   "execution_count": 69,
   "id": "aeee8b3d-dc42-47f5-92f2-1badbac402da",
   "metadata": {},
   "outputs": [
    {
     "data": {
      "text/plain": [
       "2"
      ]
     },
     "execution_count": 69,
     "metadata": {},
     "output_type": "execute_result"
    }
   ],
   "source": [
    "round(1.68)"
   ]
  }
 ],
 "metadata": {
  "kernelspec": {
   "display_name": "Python 3 (ipykernel)",
   "language": "python",
   "name": "python3"
  },
  "language_info": {
   "codemirror_mode": {
    "name": "ipython",
    "version": 3
   },
   "file_extension": ".py",
   "mimetype": "text/x-python",
   "name": "python",
   "nbconvert_exporter": "python",
   "pygments_lexer": "ipython3",
   "version": "3.11.7"
  }
 },
 "nbformat": 4,
 "nbformat_minor": 5
}
