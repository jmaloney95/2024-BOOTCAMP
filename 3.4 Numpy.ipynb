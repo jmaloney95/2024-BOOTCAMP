{
 "cells": [
  {
   "cell_type": "code",
   "execution_count": 1,
   "id": "1d4a8469-92ff-467a-8c93-55ed20d4cf18",
   "metadata": {},
   "outputs": [
    {
     "name": "stdout",
     "output_type": "stream",
     "text": [
      "Requirement already satisfied: numpy in c:\\users\\jmalo\\anaconda3\\lib\\site-packages (1.26.4)\n"
     ]
    }
   ],
   "source": [
    "!pip install numpy"
   ]
  },
  {
   "cell_type": "code",
   "execution_count": 2,
   "id": "a1a93285-7a53-40b2-939f-2605dcf485f9",
   "metadata": {},
   "outputs": [],
   "source": [
    "import numpy as np"
   ]
  },
  {
   "cell_type": "markdown",
   "id": "c89581b1-0a57-45fe-a8cb-a4d55c957070",
   "metadata": {},
   "source": [
    "1. Create"
   ]
  },
  {
   "cell_type": "code",
   "execution_count": 33,
   "id": "76705909-6056-44a6-87c5-5a02d96df0c4",
   "metadata": {},
   "outputs": [],
   "source": [
    "data = np.random.rand(2,3,4)\n",
    "zeroes = np.zeros((2,2,2))\n",
    "full = np.full((2,2,2), 7)\n",
    "ones = np.ones((2,2,2))"
   ]
  },
  {
   "cell_type": "code",
   "execution_count": 34,
   "id": "5669d1a1-2071-4c4b-a746-93e1d552a67d",
   "metadata": {},
   "outputs": [
    {
     "data": {
      "text/plain": [
       "array([[[0.98765636, 0.61523035, 0.11296224, 0.79325054],\n",
       "        [0.99051064, 0.79373952, 0.07427699, 0.60168129],\n",
       "        [0.55169499, 0.25279147, 0.01986875, 0.90345722]],\n",
       "\n",
       "       [[0.94851636, 0.52199593, 0.64285886, 0.78449524],\n",
       "        [0.9932294 , 0.71803749, 0.84785266, 0.42757193],\n",
       "        [0.82169345, 0.09850568, 0.41322346, 0.50508939]]])"
      ]
     },
     "execution_count": 34,
     "metadata": {},
     "output_type": "execute_result"
    }
   ],
   "source": [
    "data"
   ]
  },
  {
   "cell_type": "code",
   "execution_count": 35,
   "id": "0ce1e344-330d-46ea-a620-2c09c9ea3159",
   "metadata": {},
   "outputs": [
    {
     "data": {
      "text/plain": [
       "array([[[1., 1.],\n",
       "        [1., 1.]],\n",
       "\n",
       "       [[1., 1.],\n",
       "        [1., 1.]]])"
      ]
     },
     "execution_count": 35,
     "metadata": {},
     "output_type": "execute_result"
    }
   ],
   "source": [
    "ones"
   ]
  },
  {
   "cell_type": "code",
   "execution_count": 36,
   "id": "230d969b-225e-4b80-b733-e94dc80eb881",
   "metadata": {},
   "outputs": [],
   "source": [
    "arr = np.array([[1,2,3,4],[1,2,3,4]])"
   ]
  },
  {
   "cell_type": "code",
   "execution_count": 37,
   "id": "51b8d227-484c-420b-8dee-fd127602ee18",
   "metadata": {},
   "outputs": [
    {
     "data": {
      "text/plain": [
       "array([[1, 2, 3, 4],\n",
       "       [1, 2, 3, 4]])"
      ]
     },
     "execution_count": 37,
     "metadata": {},
     "output_type": "execute_result"
    }
   ],
   "source": [
    "arr"
   ]
  },
  {
   "cell_type": "code",
   "execution_count": 38,
   "id": "ef21656a-ff30-4ce3-bb62-37b91db04f4f",
   "metadata": {},
   "outputs": [
    {
     "data": {
      "text/plain": [
       "numpy.ndarray"
      ]
     },
     "execution_count": 38,
     "metadata": {},
     "output_type": "execute_result"
    }
   ],
   "source": [
    "type(arr)"
   ]
  },
  {
   "cell_type": "code",
   "execution_count": null,
   "id": "5d33abe0-2128-4a2f-89c8-4a5b1db0de12",
   "metadata": {},
   "outputs": [],
   "source": []
  },
  {
   "cell_type": "markdown",
   "id": "d805cd96-2d50-423a-9286-5be04a6b49d4",
   "metadata": {},
   "source": [
    "2. Read"
   ]
  },
  {
   "cell_type": "code",
   "execution_count": 39,
   "id": "fb5ddfee-cf8a-42a0-88b0-41e5a88f8f46",
   "metadata": {},
   "outputs": [],
   "source": [
    "# Attributes\n",
    "shape = data.shape\n",
    "size = data.size\n",
    "types = data.dtype"
   ]
  },
  {
   "cell_type": "code",
   "execution_count": 40,
   "id": "be1de250-6ffc-45c3-86c1-3ffd7b869633",
   "metadata": {},
   "outputs": [
    {
     "data": {
      "text/plain": [
       "dtype('float64')"
      ]
     },
     "execution_count": 40,
     "metadata": {},
     "output_type": "execute_result"
    }
   ],
   "source": [
    "types"
   ]
  },
  {
   "cell_type": "code",
   "execution_count": 41,
   "id": "ec0bbd47-e645-4dfb-8991-680cc0c43902",
   "metadata": {},
   "outputs": [],
   "source": [
    "# Slicing\n",
    "arr = data[0]\n",
    "slicer = data[0][0:2]\n",
    "reverse = data[-1]\n",
    "singleval = data[0][0][0]"
   ]
  },
  {
   "cell_type": "code",
   "execution_count": 42,
   "id": "90374a42-f6e2-4e35-9598-0e3f122bbca3",
   "metadata": {},
   "outputs": [
    {
     "data": {
      "text/plain": [
       "array([[0.98765636, 0.61523035, 0.11296224, 0.79325054],\n",
       "       [0.99051064, 0.79373952, 0.07427699, 0.60168129]])"
      ]
     },
     "execution_count": 42,
     "metadata": {},
     "output_type": "execute_result"
    }
   ],
   "source": [
    "slicer"
   ]
  },
  {
   "cell_type": "code",
   "execution_count": 43,
   "id": "f949530c-850c-4ccb-a1b9-317f82d17f74",
   "metadata": {},
   "outputs": [
    {
     "data": {
      "text/plain": [
       "array([[[0.98765636, 0.61523035, 0.11296224, 0.79325054],\n",
       "        [0.99051064, 0.79373952, 0.07427699, 0.60168129],\n",
       "        [0.55169499, 0.25279147, 0.01986875, 0.90345722]],\n",
       "\n",
       "       [[0.94851636, 0.52199593, 0.64285886, 0.78449524],\n",
       "        [0.9932294 , 0.71803749, 0.84785266, 0.42757193],\n",
       "        [0.82169345, 0.09850568, 0.41322346, 0.50508939]]])"
      ]
     },
     "execution_count": 43,
     "metadata": {},
     "output_type": "execute_result"
    }
   ],
   "source": [
    "data"
   ]
  },
  {
   "cell_type": "markdown",
   "id": "85a842f2-e34b-4220-b569-ea9a327119f0",
   "metadata": {},
   "source": [
    "3. Update"
   ]
  },
  {
   "cell_type": "code",
   "execution_count": 44,
   "id": "e073b3df-5741-48eb-a326-9cec783f5602",
   "metadata": {},
   "outputs": [],
   "source": [
    "list1 = np.random.rand(10)\n",
    "list2 = np.random.rand(10)"
   ]
  },
  {
   "cell_type": "code",
   "execution_count": 45,
   "id": "93d2691a-abb0-45c6-81d3-99f0dd5ebc8a",
   "metadata": {},
   "outputs": [
    {
     "data": {
      "text/plain": [
       "array([0.34680807, 0.36392155, 0.74619082, 0.60114674, 0.78597987,\n",
       "       0.01306287, 0.19218111, 0.97980044, 0.56166773, 0.83310374])"
      ]
     },
     "execution_count": 45,
     "metadata": {},
     "output_type": "execute_result"
    }
   ],
   "source": [
    "list1"
   ]
  },
  {
   "cell_type": "code",
   "execution_count": 46,
   "id": "6dce82a4-e53c-437f-bc96-be5b08ca3c63",
   "metadata": {},
   "outputs": [],
   "source": [
    "# Basic Math\n",
    "add = np.add(list1, list2)\n",
    "sub = np.subtract(list1, list2)\n",
    "div = np.divide(list1, list2)\n",
    "mult = np.multiply(list1, list2)\n",
    "dot = np.dot(list1, list2)"
   ]
  },
  {
   "cell_type": "code",
   "execution_count": 47,
   "id": "3f385b15-cb6c-44e7-ae76-f5374b115e08",
   "metadata": {},
   "outputs": [
    {
     "data": {
      "text/plain": [
       "array([0.89716364, 0.66302606, 0.79387255, 0.68567103, 1.5814667 ,\n",
       "       0.10955996, 0.21450994, 1.0973573 , 0.9733658 , 1.25346816])"
      ]
     },
     "execution_count": 47,
     "metadata": {},
     "output_type": "execute_result"
    }
   ],
   "source": [
    "add"
   ]
  },
  {
   "cell_type": "code",
   "execution_count": 48,
   "id": "d1e911c2-ae80-4fc7-b0aa-7abde6c83026",
   "metadata": {},
   "outputs": [],
   "source": [
    "# Stat Functions\n",
    "sqrt = np.sqrt(25)\n",
    "ab = np.abs(-2)\n",
    "power = np.power(2,7)\n",
    "log = np.log(25)\n",
    "exp = np.exp([2,3])\n",
    "mins = np.min(list1)\n",
    "maxs = np.max(list1)"
   ]
  },
  {
   "cell_type": "code",
   "execution_count": 49,
   "id": "5a61d091-cd81-4b57-b29d-e685809b5d3e",
   "metadata": {},
   "outputs": [],
   "source": [
    "# SAPLEMM"
   ]
  },
  {
   "cell_type": "code",
   "execution_count": 50,
   "id": "26380afc-dfff-4a6a-9e7c-b1434bdfbdce",
   "metadata": {},
   "outputs": [],
   "source": [
    "data[0][0][0] = 700"
   ]
  },
  {
   "cell_type": "code",
   "execution_count": 51,
   "id": "2a21b901-00c2-43d6-a09f-b47e2029c981",
   "metadata": {},
   "outputs": [
    {
     "data": {
      "text/plain": [
       "array([[[7.00000000e+02, 6.15230350e-01, 1.12962236e-01, 7.93250542e-01],\n",
       "        [9.90510644e-01, 7.93739523e-01, 7.42769904e-02, 6.01681288e-01],\n",
       "        [5.51694991e-01, 2.52791470e-01, 1.98687476e-02, 9.03457217e-01]],\n",
       "\n",
       "       [[9.48516359e-01, 5.21995932e-01, 6.42858860e-01, 7.84495235e-01],\n",
       "        [9.93229396e-01, 7.18037489e-01, 8.47852658e-01, 4.27571925e-01],\n",
       "        [8.21693454e-01, 9.85056760e-02, 4.13223461e-01, 5.05089395e-01]]])"
      ]
     },
     "execution_count": 51,
     "metadata": {},
     "output_type": "execute_result"
    }
   ],
   "source": [
    "data"
   ]
  },
  {
   "cell_type": "code",
   "execution_count": 52,
   "id": "4e77030d-c6a6-45f3-aeba-d261055aea64",
   "metadata": {},
   "outputs": [
    {
     "data": {
      "text/plain": [
       "array([[[1.12962236e-01, 6.15230350e-01, 7.93250542e-01, 7.00000000e+02],\n",
       "        [7.42769904e-02, 6.01681288e-01, 7.93739523e-01, 9.90510644e-01],\n",
       "        [1.98687476e-02, 2.52791470e-01, 5.51694991e-01, 9.03457217e-01]],\n",
       "\n",
       "       [[5.21995932e-01, 6.42858860e-01, 7.84495235e-01, 9.48516359e-01],\n",
       "        [4.27571925e-01, 7.18037489e-01, 8.47852658e-01, 9.93229396e-01],\n",
       "        [9.85056760e-02, 4.13223461e-01, 5.05089395e-01, 8.21693454e-01]]])"
      ]
     },
     "execution_count": 52,
     "metadata": {},
     "output_type": "execute_result"
    }
   ],
   "source": [
    "data.sort()\n",
    "data"
   ]
  },
  {
   "cell_type": "code",
   "execution_count": 53,
   "id": "ebae0f21-5c23-445b-a5e4-05c033e482a2",
   "metadata": {},
   "outputs": [
    {
     "name": "stdout",
     "output_type": "stream",
     "text": [
      "(2, 3, 4)\n"
     ]
    }
   ],
   "source": [
    "print(data.shape)"
   ]
  },
  {
   "cell_type": "code",
   "execution_count": 54,
   "id": "f060427d-a846-4bc3-9714-08f83fb82a04",
   "metadata": {},
   "outputs": [
    {
     "data": {
      "text/plain": [
       "(2, 2, 6)"
      ]
     },
     "execution_count": 54,
     "metadata": {},
     "output_type": "execute_result"
    }
   ],
   "source": [
    "data = data.reshape((2,2,-1))\n",
    "data.shape"
   ]
  },
  {
   "cell_type": "code",
   "execution_count": 56,
   "id": "816cb824-430d-43e0-abae-f519f5e7fc1c",
   "metadata": {},
   "outputs": [
    {
     "name": "stdout",
     "output_type": "stream",
     "text": [
      "[0. 0. 0. 0. 0. 0. 0. 0.]\n",
      "[0. 0. 0. 0. 0. 0. 0. 0. 3. 4.]\n"
     ]
    }
   ],
   "source": [
    "zeroes = np.zeros((8))\n",
    "print(zeroes)\n",
    "zeroes = np.append(zeroes, [3,4])\n",
    "print(zeroes)"
   ]
  },
  {
   "cell_type": "code",
   "execution_count": 57,
   "id": "8a3eac10-95f9-4821-b1f4-32c8fa5a4c56",
   "metadata": {},
   "outputs": [
    {
     "name": "stdout",
     "output_type": "stream",
     "text": [
      "[0. 0. 1. 0. 0. 0. 0. 0. 0. 3. 4.]\n"
     ]
    }
   ],
   "source": [
    "zeroes = np.insert(zeroes, 2, 1)\n",
    "print(zeroes)"
   ]
  },
  {
   "cell_type": "markdown",
   "id": "0e5875d6-1c7c-4e51-bc45-474350ce8e6a",
   "metadata": {},
   "source": [
    "4. Delete"
   ]
  },
  {
   "cell_type": "code",
   "execution_count": 58,
   "id": "ee8234a4-129c-4388-aa0c-f3ecda041fed",
   "metadata": {},
   "outputs": [
    {
     "data": {
      "text/plain": [
       "array([[[1.12962236e-01, 6.15230350e-01, 7.93250542e-01, 7.00000000e+02,\n",
       "         7.42769904e-02, 6.01681288e-01],\n",
       "        [7.93739523e-01, 9.90510644e-01, 1.98687476e-02, 2.52791470e-01,\n",
       "         5.51694991e-01, 9.03457217e-01]],\n",
       "\n",
       "       [[5.21995932e-01, 6.42858860e-01, 7.84495235e-01, 9.48516359e-01,\n",
       "         4.27571925e-01, 7.18037489e-01],\n",
       "        [8.47852658e-01, 9.93229396e-01, 9.85056760e-02, 4.13223461e-01,\n",
       "         5.05089395e-01, 8.21693454e-01]]])"
      ]
     },
     "execution_count": 58,
     "metadata": {},
     "output_type": "execute_result"
    }
   ],
   "source": [
    "data"
   ]
  },
  {
   "cell_type": "code",
   "execution_count": 59,
   "id": "b0c38d21-4633-42e6-977f-bc3ea2ff749b",
   "metadata": {},
   "outputs": [
    {
     "data": {
      "text/plain": [
       "array([[[0.79373952, 0.99051064, 0.01986875, 0.25279147, 0.55169499,\n",
       "         0.90345722]],\n",
       "\n",
       "       [[0.84785266, 0.9932294 , 0.09850568, 0.41322346, 0.50508939,\n",
       "         0.82169345]]])"
      ]
     },
     "execution_count": 59,
     "metadata": {},
     "output_type": "execute_result"
    }
   ],
   "source": [
    "np.delete(data, 0, axis=1)"
   ]
  },
  {
   "cell_type": "code",
   "execution_count": 61,
   "id": "cc4b7f26-70c8-4352-99e4-ebe52fc5dee6",
   "metadata": {},
   "outputs": [
    {
     "name": "stdout",
     "output_type": "stream",
     "text": [
      "(2, 2, 6)\n"
     ]
    }
   ],
   "source": [
    "print(data.shape)"
   ]
  },
  {
   "cell_type": "code",
   "execution_count": 62,
   "id": "32e62a3c-ac9f-42df-b94a-f4be989b6f45",
   "metadata": {},
   "outputs": [],
   "source": [
    "np.save(\"new array\", data)"
   ]
  },
  {
   "cell_type": "code",
   "execution_count": 63,
   "id": "60468044-06d0-4f11-abe2-a79281af571d",
   "metadata": {},
   "outputs": [
    {
     "name": "stdout",
     "output_type": "stream",
     "text": [
      "[[[1.12962236e-01 6.15230350e-01 7.93250542e-01 7.00000000e+02\n",
      "   7.42769904e-02 6.01681288e-01]\n",
      "  [7.93739523e-01 9.90510644e-01 1.98687476e-02 2.52791470e-01\n",
      "   5.51694991e-01 9.03457217e-01]]\n",
      "\n",
      " [[5.21995932e-01 6.42858860e-01 7.84495235e-01 9.48516359e-01\n",
      "   4.27571925e-01 7.18037489e-01]\n",
      "  [8.47852658e-01 9.93229396e-01 9.85056760e-02 4.13223461e-01\n",
      "   5.05089395e-01 8.21693454e-01]]]\n"
     ]
    }
   ],
   "source": [
    "test = np.load(\"new array.npy\")\n",
    "print(test)"
   ]
  }
 ],
 "metadata": {
  "kernelspec": {
   "display_name": "Python 3 (ipykernel)",
   "language": "python",
   "name": "python3"
  },
  "language_info": {
   "codemirror_mode": {
    "name": "ipython",
    "version": 3
   },
   "file_extension": ".py",
   "mimetype": "text/x-python",
   "name": "python",
   "nbconvert_exporter": "python",
   "pygments_lexer": "ipython3",
   "version": "3.11.7"
  }
 },
 "nbformat": 4,
 "nbformat_minor": 5
}
